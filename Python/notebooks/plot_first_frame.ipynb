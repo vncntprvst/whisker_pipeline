{
 "cells": [
  {
   "cell_type": "code",
   "execution_count": null,
   "metadata": {},
   "outputs": [],
   "source": [
    "import argparse\n",
    "import os, sys\n",
    "import json\n",
    "import numpy as np\n",
    "import time\n",
    "\n",
    "import WhiskiWrap as ww\n",
    "from WhiskiWrap import load_whisker_data as lwd\n",
    "# add directory above notebook to path\n",
    "sys.path.append(os.path.dirname(os.path.abspath('')))\n",
    "import whiskerpad as wp\n",
    "# Check that whisk binaries are executables and update permissions if necessary\n",
    "from wwutils.whisk_permissions import update_permissions\n",
    "update_permissions()"
   ]
  },
  {
   "cell_type": "code",
   "execution_count": null,
   "metadata": {},
   "outputs": [],
   "source": [
    "from pathlib import Path\n",
    "import cv2\n",
    "import matplotlib.pyplot as plt\n",
    "input_dir=Path('/data')\n",
    "# list all the files in the data directory\n",
    "# data_files = list(input_dir.glob('*'))\n",
    "# print(data_files)\n",
    "video_name='sc016_0630_001_30sWhisking.mp4'\n",
    "base_name='sc016_0630_001'\n",
    "input_file=input_dir/video_name\n",
    "\n",
    "# load the video's first frame \n",
    "frame_num = 0\n",
    "cap = cv2.VideoCapture(str(input_file))\n",
    "cap.set(cv2.CAP_PROP_POS_FRAMES, frame_num)\n",
    "ret, frame = cap.read()\n",
    "cap.release()\n",
    "# display the image,\n",
    "# plt.imshow(frame)\n",
    "# plt.axis('off')\n",
    "# plt.show()\n",
    "\n",
    "# # Save the image as base_name_first_frame.png\n",
    "# output_file = input_dir / f'{base_name}_first_frame.png'\n",
    "# cv2.imwrite(str(output_file), frame)"
   ]
  },
  {
   "cell_type": "markdown",
   "metadata": {},
   "source": [
    "#### Run whisker tracking on the first frame"
   ]
  },
  {
   "cell_type": "code",
   "execution_count": null,
   "metadata": {},
   "outputs": [],
   "source": [
    "splitUp=True\n",
    "output_dir = input_dir / 'frame_0_whiskers'\n",
    "nproc=40"
   ]
  },
  {
   "cell_type": "code",
   "execution_count": null,
   "metadata": {},
   "outputs": [],
   "source": [
    "# whiskerpad=wp.Params(str(input_file), splitUp, base_name)\n",
    "# whiskerpadParams, splitUp = wp.WhiskerPad.get_whiskerpad_params(whiskerpad)\n",
    "\n",
    "image_halves, image_side, face_side, fp = wp.get_side_image(str(input_file), splitUp)\n",
    "# print each image halvse side by side\n",
    "fig, ax = plt.subplots(1, 2, figsize=(10, 5))\n",
    "ax[0].imshow(image_halves[0], cmap='gray')\n",
    "ax[0].axis('off')\n",
    "ax[0].set_title(f\"Face side: {face_side[0]}\")\n",
    "ax[1].imshow(image_halves[1], cmap='gray')\n",
    "ax[1].axis('off')\n",
    "ax[1].set_title(f\"Face side: {face_side[1]}\")\n",
    "plt.show()\n",
    "\n",
    "# Save each side as tif\n",
    "output_dir = input_dir / 'frame_0_whiskers'\n",
    "output_dir.mkdir(exist_ok=True)\n",
    "for i, side in enumerate(face_side):\n",
    "    output_file = output_dir / f'{base_name}_first_frame_{side}.tif'\n",
    "    cv2.imwrite(str(output_file), image_halves[i])"
   ]
  },
  {
   "cell_type": "code",
   "execution_count": null,
   "metadata": {},
   "outputs": [],
   "source": [
    "# Load whiskerpad json file\n",
    "whiskerpad_file = os.path.join(input_dir, f'whiskerpad_{base_name}.json')\n",
    "# whiskerpad_file = os.path.join(input_dir, f'whiskerpad_{os.path.basename(input_file).split(\".\")[0]}.json')\n",
    "\n",
    "if not os.path.exists(whiskerpad_file):\n",
    "# If whiskerpad file does not exist, create it\n",
    "    print('Creating whiskerpad parameters file.')\n",
    "    whiskerpad=wp.Params(input_file, splitUp, base_name)\n",
    "    # Get whiskerpad parameters\n",
    "    whiskerpadParams, splitUp = wp.WhiskerPad.get_whiskerpad_params(whiskerpad)\n",
    "    # Save whisking parameters to json file\n",
    "    wp.WhiskerPad.save_whiskerpad_params(whiskerpad, whiskerpadParams)\n",
    "\n",
    "with open(whiskerpad_file, 'r') as f:\n",
    "    whiskerpad_params = json.load(f)\n",
    "\n",
    "# Check that left and right whiskerpad parameters are defined\n",
    "if np.size(whiskerpad_params['whiskerpads'])<2:\n",
    "    raise Exception('Missing whiskerpad parameters in whiskerpad json file.')\n",
    "\n",
    "# Get side types (left / right or top / bottom)\n",
    "side_types = [whiskerpad['FaceSide'].lower() for whiskerpad in whiskerpad_params['whiskerpads']]"
   ]
  },
  {
   "cell_type": "code",
   "execution_count": null,
   "metadata": {},
   "outputs": [],
   "source": [
    "#######################\n",
    "### Run whisker tracking\n",
    "########################\n",
    "\n",
    "for side in side_types:\n",
    "    print(f'Running whisker tracking for {side} face side video')\n",
    "\n",
    "    # Time the tracking\n",
    "    start_time_track = time.time()\n",
    "\n",
    "    image_filename = output_dir / f'{base_name}_first_frame_{side}.tif'\n",
    "    result_dict = ww.trace_and_measure_chunk(image_filename,\n",
    "                                            delete_when_done=False,\n",
    "                                            face=side,\n",
    "                                            classify={'px2mm': '0.04', 'n_whiskers': '3'})\n",
    "    \n",
    "\n",
    "    time_track = time.time() - start_time_track\n",
    "    print(f'Tracking took {time_track} seconds.')"
   ]
  },
  {
   "cell_type": "code",
   "execution_count": null,
   "metadata": {},
   "outputs": [],
   "source": [
    "# Load the whisker data and plot whiskers on each image\n"
   ]
  }
 ],
 "metadata": {
  "kernelspec": {
   "display_name": "WhiskiWrap",
   "language": "python",
   "name": "python3"
  },
  "language_info": {
   "codemirror_mode": {
    "name": "ipython",
    "version": 3
   },
   "file_extension": ".py",
   "mimetype": "text/x-python",
   "name": "python",
   "nbconvert_exporter": "python",
   "pygments_lexer": "ipython3",
   "version": "3.10.13"
  }
 },
 "nbformat": 4,
 "nbformat_minor": 2
}
