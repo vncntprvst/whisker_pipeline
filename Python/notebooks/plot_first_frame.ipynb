{
 "cells": [
  {
   "cell_type": "code",
   "execution_count": null,
   "metadata": {},
   "outputs": [],
   "source": [
    "import argparse\n",
    "import os, sys\n",
    "import json\n",
    "import numpy as np\n",
    "import time\n",
    "\n",
    "import WhiskiWrap as ww\n",
    "from WhiskiWrap import load_whisker_data as lwd\n",
    "# add directory above notebook to path\n",
    "sys.path.append(os.path.dirname(os.path.abspath('')))\n",
    "import whiskerpad as wp\n",
    "# Check that whisk binaries are executables and update permissions if necessary\n",
    "from wwutils.whisk_permissions import update_permissions\n",
    "update_permissions()"
   ]
  },
  {
   "cell_type": "code",
   "execution_count": null,
   "metadata": {},
   "outputs": [],
   "source": [
    "from pathlib import Path\n",
    "import cv2\n",
    "import matplotlib.pyplot as plt\n",
    "input_dir=Path('/data')\n",
    "# list all the files in the data directory\n",
    "# data_files = list(input_dir.glob('*'))\n",
    "# print(data_files)\n",
    "video_name='sc016_0630_001_30sWhisking.mp4'\n",
    "base_name='sc016_0630_001'\n",
    "input_file=input_dir/video_name\n",
    "\n",
    "# load the video's first frame \n",
    "frame_num = 0\n",
    "cap = cv2.VideoCapture(str(input_file))\n",
    "cap.set(cv2.CAP_PROP_POS_FRAMES, frame_num)\n",
    "ret, frame = cap.read()\n",
    "cap.release()\n",
    "# display the image,\n",
    "# plt.imshow(frame)\n",
    "# plt.axis('off')\n",
    "# plt.show()\n",
    "\n",
    "# # Save the image as base_name_first_frame.png\n",
    "# output_file = input_dir / f'{base_name}_first_frame.png'\n",
    "# cv2.imwrite(str(output_file), frame)"
   ]
  },
  {
   "cell_type": "markdown",
   "metadata": {},
   "source": [
    "#### Run whisker tracking on the first frame"
   ]
  },
  {
   "cell_type": "code",
   "execution_count": null,
   "metadata": {},
   "outputs": [],
   "source": [
    "splitUp=True\n",
    "output_dir = input_dir / 'frame_0_whiskers'\n",
    "nproc=40"
   ]
  },
  {
   "cell_type": "code",
   "execution_count": null,
   "metadata": {},
   "outputs": [],
   "source": [
    "# whiskerpad=wp.Params(str(input_file), splitUp, base_name)\n",
    "# whiskerpadParams, splitUp = wp.WhiskerPad.get_whiskerpad_params(whiskerpad)\n",
    "\n",
    "image_halves, image_side, face_side, fp = wp.get_side_image(str(input_file), splitUp)\n",
    "# print each image halvse side by side\n",
    "fig, ax = plt.subplots(1, 2, figsize=(10, 5))\n",
    "ax[0].imshow(image_halves[0], cmap='gray')\n",
    "ax[0].axis('off')\n",
    "ax[0].set_title(f\"Face side: {face_side[0]}\")\n",
    "ax[1].imshow(image_halves[1], cmap='gray')\n",
    "ax[1].axis('off')\n",
    "ax[1].set_title(f\"Face side: {face_side[1]}\")\n",
    "plt.show()\n",
    "\n",
    "# Save each side as tif\n",
    "output_dir = input_dir / 'frame_0_whiskers'\n",
    "output_dir.mkdir(exist_ok=True)\n",
    "for i, side in enumerate(face_side):\n",
    "    output_file = output_dir / f'{base_name}_first_frame_{side}.tif'\n",
    "    cv2.imwrite(str(output_file), image_halves[i])"
   ]
  },
  {
   "cell_type": "code",
   "execution_count": null,
   "metadata": {},
   "outputs": [],
   "source": [
    "# Load whiskerpad json file\n",
    "whiskerpad_file = os.path.join(input_dir, f'whiskerpad_{base_name}.json')\n",
    "# whiskerpad_file = os.path.join(input_dir, f'whiskerpad_{os.path.basename(input_file).split(\".\")[0]}.json')\n",
    "\n",
    "if not os.path.exists(whiskerpad_file):\n",
    "# If whiskerpad file does not exist, create it\n",
    "    print('Creating whiskerpad parameters file.')\n",
    "    whiskerpad=wp.Params(input_file, splitUp, base_name)\n",
    "    # Get whiskerpad parameters\n",
    "    whiskerpadParams, splitUp = wp.WhiskerPad.get_whiskerpad_params(whiskerpad)\n",
    "    # Save whisking parameters to json file\n",
    "    wp.WhiskerPad.save_whiskerpad_params(whiskerpad, whiskerpadParams)\n",
    "\n",
    "with open(whiskerpad_file, 'r') as f:\n",
    "    whiskerpad_params = json.load(f)\n",
    "\n",
    "# Check that left and right whiskerpad parameters are defined\n",
    "if np.size(whiskerpad_params['whiskerpads'])<2:\n",
    "    raise Exception('Missing whiskerpad parameters in whiskerpad json file.')\n",
    "\n",
    "# Get side types (left / right or top / bottom)\n",
    "side_types = [whiskerpad['FaceSide'].lower() for whiskerpad in whiskerpad_params['whiskerpads']]"
   ]
  },
  {
   "cell_type": "code",
   "execution_count": null,
   "metadata": {},
   "outputs": [],
   "source": [
    "#######################\n",
    "### Run whisker tracking\n",
    "########################\n",
    "\n",
    "for side in side_types:\n",
    "    print(f'Running whisker tracking for {side} face side video')\n",
    "\n",
    "    # Time the tracking\n",
    "    start_time_track = time.time()\n",
    "\n",
    "    image_filename = output_dir / f'{base_name}_first_frame_{side}.tif'\n",
    "    result_dict = ww.trace_and_measure_chunk(image_filename,\n",
    "                                            delete_when_done=False,\n",
    "                                            face=side,\n",
    "                                            classify={'px2mm': '0.04', 'n_whiskers': '3'})\n",
    "    \n",
    "\n",
    "    time_track = time.time() - start_time_track\n",
    "    print(f'Tracking took {time_track} seconds.')"
   ]
  },
  {
   "cell_type": "code",
   "execution_count": null,
   "metadata": {},
   "outputs": [],
   "source": [
    "# Load the whisker data and plot whiskers on each image\n",
    "# whiskers is a list of dictionaries, each dictionary is a frame, each frame has a dictionary of whiskers\n",
    "# Initialize the dictionary to store the whisker data for each side\n",
    "whisker_data = {}\n",
    "\n",
    "for side in side_types:\n",
    "    print(f'Loading whiskers for {side} face side video')\n",
    "    whisk_filename = output_dir / f'{base_name}_first_frame_{side}.whiskers'\n",
    "    # Load whiskers\n",
    "    whiskers = ww.wfile_io.Load_Whiskers(str(whisk_filename))\n",
    "    whisker_data[side] = whiskers\n",
    "\n",
    "print(f\"Whisker data for {len(whisker_data)} sides loaded.\")"
   ]
  },
  {
   "cell_type": "code",
   "execution_count": null,
   "metadata": {},
   "outputs": [],
   "source": [
    "# Initialize the dictionaries to store the whisker pixel values for each side\n",
    "xpixels, ypixels = {}, {}\n",
    "# whisker_ids = {}\n",
    "\n",
    "for side, whiskers in whisker_data.items():\n",
    "    # Initialize lists for this side if they don't exist yet\n",
    "    if side not in xpixels:\n",
    "        xpixels[side] = []\n",
    "    if side not in ypixels:\n",
    "        ypixels[side] = []\n",
    "    # if side not in whisker_ids:\n",
    "    #     whisker_ids[side] = []\n",
    "    \n",
    "    for frame, frame_whiskers in list(whiskers.items()):\n",
    "        for whisker_id, wseg in list(frame_whiskers.items()):\n",
    "            # Write whisker contour x and y pixel values\n",
    "            xpixels[side].append(wseg.x)\n",
    "            ypixels[side].append(wseg.y)\n",
    "            # whisker_ids[side].append(wseg.id)"
   ]
  },
  {
   "cell_type": "code",
   "execution_count": null,
   "metadata": {},
   "outputs": [],
   "source": [
    "# Check how many whiskers were detected for each side\n",
    "n_whiskers = {side: len(xpixels[side]) for side in side_types}\n",
    "print(f\"Number of whiskers detected: {n_whiskers}\")\n",
    "# print(f\"Whisker IDs for each sides: {whisker_ids}\")"
   ]
  },
  {
   "cell_type": "code",
   "execution_count": null,
   "metadata": {},
   "outputs": [],
   "source": [
    "# Get unique whisker IDs\n",
    "whisker_ids = {side: np.unique([wseg.id for frame_whiskers in whisker_data[side].values() for wseg in frame_whiskers.values()]) for side in side_types}\n",
    "print(f\"Unique whisker IDs: {whisker_ids}\")\n",
    "# Create set of colors for each whisker ID\n",
    "colors = {side: plt.cm.viridis(np.linspace(0, 1, len(whisker_ids[side]))) for side in side_types}"
   ]
  },
  {
   "cell_type": "code",
   "execution_count": null,
   "metadata": {},
   "outputs": [],
   "source": [
    "# Plot whiskers on each image\n",
    "fig, ax = plt.subplots(1, 2, figsize=(10, 5))\n",
    "# Remove space between subplots\n",
    "plt.subplots_adjust(wspace=-0.51, hspace=0)\n",
    "\n",
    "for i, side in enumerate(side_types):\n",
    "    ax[-(i+1)].imshow(image_halves[i], cmap='gray')\n",
    "    for whisker_id, color in zip(whisker_ids[side], colors[side]):\n",
    "        # Get the whisker pixel values for this whisker ID from xpixels and ypixels\n",
    "        whisker_x = xpixels[side][whisker_id]\n",
    "        whisker_y = ypixels[side][whisker_id]\n",
    "        ax[-(i+1)].plot(whisker_x, whisker_y, color=color)\n",
    "        \n",
    "    ax[-(i+1)].axis('off')\n",
    "    ax[-(i+1)].set_title(f\"Face side: {side}\")\n",
    "plt.show()"
   ]
  },
  {
   "cell_type": "code",
   "execution_count": null,
   "metadata": {},
   "outputs": [],
   "source": [
    "#  Check if measurment file exists\n",
    "measurement_file = output_dir / f'{base_name}_first_frame_{side}.measurements'\n",
    "if measurement_file.exists():\n",
    "    wmeas = {}\n",
    "\n",
    "    for side in side_types:\n",
    "        print(f'Loading whisker measurements for {side} face side video')\n",
    "        whisk_filename = output_dir / f'{base_name}_first_frame_{side}.whiskers'\n",
    "        # Load whiskers\n",
    "        wmeas[side] =ww.read_whisker_data(str(whisk_filename))\n",
    "\n",
    "print(f\"Whisker measurements for {len(wmeas)} sides loaded.\")"
   ]
  },
  {
   "cell_type": "code",
   "execution_count": null,
   "metadata": {},
   "outputs": [],
   "source": [
    "wmeas['left']"
   ]
  },
  {
   "cell_type": "code",
   "execution_count": null,
   "metadata": {},
   "outputs": [],
   "source": [
    "# as sanity check, for each whisker, (on each side), compute whisker length and compare to the length in the measurements file\n",
    "# Initialize the dictionaries to store the whisker lengths for each side\n",
    "whisker_lengths, whisker_lengths_meas = {}, {}\n",
    "for side in side_types:\n",
    "    # Initialize lists for this side if they don't exist yet\n",
    "    if side not in whisker_lengths:\n",
    "        whisker_lengths[side] = []\n",
    "    \n",
    "    for frame, frame_whiskers in list(whisker_data[side].items()):\n",
    "        for whisker_id, wseg in list(frame_whiskers.items()):\n",
    "            # Compute whisker length\n",
    "            whisker_length = np.sqrt((wseg.x[-1] - wseg.x[0])**2 + (wseg.y[-1] - wseg.y[0])**2)\n",
    "            whisker_lengths[side].append(whisker_length)\n",
    "\n",
    "# Compare whisker lengths to lengths in measurements file\n",
    "for side in side_types:\n",
    "    if side not in whisker_lengths_meas:\n",
    "        whisker_lengths_meas[side] = []\n",
    "    # Get whisker lengths from measurements file \n",
    "     # Sort the whisker lengths according to the sorted indices\n",
    "    sorted_indices = np.argsort(wmeas[side]['label'])\n",
    "    whisker_lengths_meas[side].append(np.array(wmeas[side]['length'])[sorted_indices])\n",
    "    \n",
    "    # Compare whisker lengths\n",
    "    whisker_lengths_diff = np.array(whisker_lengths[side]) - np.array(whisker_lengths_meas[side])\n",
    "    \n",
    "    print(f\"Mean difference in whisker lengths for {side} face side: {np.mean(whisker_lengths_diff)}\")\n",
    "    print(f\"Max difference in whisker lengths for {side} face side: {np.max(np.abs(whisker_lengths_diff))}\")"
   ]
  },
  {
   "cell_type": "code",
   "execution_count": null,
   "metadata": {},
   "outputs": [],
   "source": [
    "# Print arrays\n",
    "print(np.array(whisker_lengths[side]))\n",
    "print( np.array(whisker_lengths_meas[side]))"
   ]
  },
  {
   "cell_type": "code",
   "execution_count": null,
   "metadata": {},
   "outputs": [],
   "source": [
    "#  print 'score' for each whisker from measurements data (wmeas), for each side. again, resort by labels\n",
    "# Initialize the dictionaries to store the whisker scores for each side\n",
    "whisker_scores = {}\n",
    "for side in side_types:\n",
    "    # Initialize lists for this side if they don't exist yet\n",
    "    if side not in whisker_scores:\n",
    "        whisker_scores[side] = []\n",
    "    \n",
    "    sorted_indices = np.argsort(wmeas[side]['label'])\n",
    "    whisker_scores[side].append(np.array(wmeas[side]['score'])[sorted_indices])\n",
    "\n",
    "# Print whisker scores\n",
    "for side in side_types:\n",
    "    print(f\"Whisker lengths and scores for {side} face side:\")\n",
    "    \n",
    "    for length, score in zip(whisker_lengths[side], whisker_scores[side][0]):\n",
    "        print(f\"{length}, {score}\")"
   ]
  },
  {
   "cell_type": "code",
   "execution_count": null,
   "metadata": {},
   "outputs": [],
   "source": [
    "# Normalize the scores to be between 0 and 1\n",
    "for side in side_types:\n",
    "    whisker_scores[side] = np.array(whisker_scores[side][0])\n",
    "    whisker_scores[side] = (whisker_scores[side] - np.min(whisker_scores[side])) / (np.max(whisker_scores[side]) - np.min(whisker_scores[side]))"
   ]
  },
  {
   "cell_type": "code",
   "execution_count": null,
   "metadata": {},
   "outputs": [],
   "source": [
    "# Get follicles\n",
    "\n",
    "follicle_x, follicle_y = {}, {}\n",
    "for side in side_types:\n",
    "    # Initialize lists for this side if they don't exist yet\n",
    "    if side not in follicle_x:\n",
    "        follicle_x[side] = []\n",
    "        follicle_y[side] = []\n",
    "    \n",
    "    sorted_indices = np.argsort(wmeas[side]['label'])\n",
    "    follicle_x[side].append(np.array(wmeas[side]['follicle_x'])[sorted_indices])\n",
    "    follicle_y[side].append(np.array(wmeas[side]['follicle_y'])[sorted_indices])\n",
    "\n",
    "# Flatten the lists\n",
    "for side in side_types:\n",
    "    follicle_x[side] = np.concatenate(follicle_x[side])\n",
    "    follicle_y[side] = np.concatenate(follicle_y[side])"
   ]
  },
  {
   "cell_type": "code",
   "execution_count": null,
   "metadata": {},
   "outputs": [],
   "source": [
    "follicle_x"
   ]
  },
  {
   "cell_type": "code",
   "execution_count": null,
   "metadata": {},
   "outputs": [],
   "source": [
    "# Plot whiskers on each image\n",
    "fig, ax = plt.subplots(1, 2, figsize=(10, 5))\n",
    "# Remove space between subplots\n",
    "plt.subplots_adjust(wspace=-0.51, hspace=0)\n",
    "\n",
    "for i, side in enumerate(side_types):\n",
    "    ax[-(i+1)].imshow(image_halves[i], cmap='gray')\n",
    "\n",
    "    # Plot the follicles (follicle_x, follicle_y) as circles of the same color as \n",
    "    # the corresponding whisker, with intensity defined by whisker scores\n",
    "    for fx, fy, score, color in zip(follicle_x[side],\n",
    "                                    follicle_y[side],\n",
    "                                    whisker_scores[side],\n",
    "                                    colors[side]):\n",
    "        # If the score is below 0.5, set the color to red\n",
    "        if score < 0.5:\n",
    "            color = 'red'\n",
    "            alpha_level = 0.1\n",
    "        else:\n",
    "            alpha_level = score\n",
    "        ax[-(i+1)].scatter(fx, fy, s=100, c=[color], alpha=alpha_level)\n",
    "\n",
    "    # Plot the whiskers\n",
    "    for whisker_id, color in zip(whisker_ids[side], colors[side]):\n",
    "        # Get the whisker pixel values for this whisker ID from xpixels and ypixels\n",
    "        whisker_x = xpixels[side][whisker_id]\n",
    "        whisker_y = ypixels[side][whisker_id]\n",
    "        # If the score is below 0.5, set the color to red\n",
    "        if whisker_scores[side][whisker_id] < 0.5:\n",
    "            color = 'red'\n",
    "            alpha_level = 0.1\n",
    "        else:\n",
    "            alpha_level = score\n",
    "        ax[-(i+1)].plot(whisker_x, whisker_y, color=color, alpha=alpha_level)\n",
    "        \n",
    "    ax[-(i+1)].axis('off')\n",
    "    ax[-(i+1)].set_title(f\"Face side: {side}\")\n",
    "plt.show()"
   ]
  },
  {
   "cell_type": "code",
   "execution_count": null,
   "metadata": {},
   "outputs": [],
   "source": [
    "whisker_scores"
   ]
  }
 ],
 "metadata": {
  "kernelspec": {
   "display_name": "WhiskiWrap",
   "language": "python",
   "name": "python3"
  },
  "language_info": {
   "codemirror_mode": {
    "name": "ipython",
    "version": 3
   },
   "file_extension": ".py",
   "mimetype": "text/x-python",
   "name": "python",
   "nbconvert_exporter": "python",
   "pygments_lexer": "ipython3",
   "version": "3.10.13"
  }
 },
 "nbformat": 4,
 "nbformat_minor": 2
}
