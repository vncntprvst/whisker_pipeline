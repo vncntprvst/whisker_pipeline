{
 "cells": [
  {
   "attachments": {},
   "cell_type": "markdown",
   "id": "e89cd0a0",
   "metadata": {},
   "source": [
    "We will plot the angle trace for the three longest whiskers (on each side if there are two sides)"
   ]
  },
  {
   "cell_type": "code",
   "execution_count": null,
   "id": "9fd00faf-1cc9-4502-82df-7dd95d240bcb",
   "metadata": {},
   "outputs": [],
   "source": [
    "import os\n",
    "# import cv2\n",
    "import tables\n",
    "from pathlib import Path\n",
    "import numpy as np\n",
    "import json\n",
    "%matplotlib inline\n",
    "import matplotlib.pyplot as plt"
   ]
  },
  {
   "cell_type": "code",
   "execution_count": null,
   "id": "b9454247",
   "metadata": {},
   "outputs": [],
   "source": [
    "# Navigate to the directory where the video and tracking data is stored\n",
    "# data_dir=\"E:/test/whisker_tracking\"\n",
    "data_dir=Path('/home/wanglab/data/whisker_asym/sc014/sc014_0325/sc014_0325_002/raw_data/behav_vid')\n",
    "# video_name=\"whiskers.mp4\"\n",
    "video_name=\"sc014_0325_002_left.mp4\" #\"sc014_0325_002_TopCam0.mp4\"\n",
    "video_file=os.path.join(data_dir,video_name)\n",
    "os.chdir(data_dir)"
   ]
  },
  {
   "cell_type": "code",
   "execution_count": null,
   "id": "b2946e1f-9981-4fda-a5f0-d14655ca8cea",
   "metadata": {},
   "outputs": [],
   "source": [
    "# Open the HDF5 file and get the pixel data\n",
    "h5file = tables.open_file(f'{os.path.basename(video_name).split(\".\")[0]}.hdf5', mode='r')\n",
    "\n",
    "# Get the summary data\n",
    "summary = h5file.get_node('/summary')\n",
    "\n",
    "# Get unique whisker IDs\n",
    "whisker_ids = np.unique(summary[:]['id'])\n"
   ]
  },
  {
   "cell_type": "code",
   "execution_count": null,
   "id": "69d92222",
   "metadata": {},
   "outputs": [],
   "source": [
    "summary"
   ]
  },
  {
   "cell_type": "code",
   "execution_count": null,
   "id": "26068348",
   "metadata": {},
   "outputs": [],
   "source": [
    "# display first 10 values of summary time\n",
    "summary[:10]['time']\n"
   ]
  },
  {
   "cell_type": "code",
   "execution_count": null,
   "id": "07e90aed",
   "metadata": {},
   "outputs": [],
   "source": [
    "#  open the csv file data_dir / 'WT' / 'output_left.csv'\n",
    "with open(data_dir / 'WT' / 'output_left.csv', 'r') as f:\n",
    "    # read the first line of the file\n",
    "    line = f.readline()\n",
    "    # split the line into a list of strings\n",
    "    line = line.split(',')\n",
    "    # convert the strings to floats\n",
    "    line = [float(x) for x in line]\n",
    "    # print the first 10 values\n",
    "    print(line[:10])"
   ]
  },
  {
   "cell_type": "code",
   "execution_count": null,
   "id": "ec702a04",
   "metadata": {},
   "outputs": [],
   "source": [
    "# Get the table index for the first frame, with fid = 0 \n",
    "first_frame_idx = np.where(summary[:]['fid'] == 0)[0]\n",
    "\n",
    "# Get the index for the three longest whiskers in the first frame\n",
    "longest_whiskers = np.argsort(summary[first_frame_idx]['length'])[-6:]\n",
    "\n",
    "# Sort them by the follicle_y coordinate\n",
    "longest_whiskers_idx = longest_whiskers[np.argsort(summary[first_frame_idx]['follicle_y'][longest_whiskers])]\n",
    "\n",
    "# Get the wid for those whiskers\n",
    "longest_whiskers_wid = summary[first_frame_idx]['wid'][longest_whiskers_idx]\n"
   ]
  },
  {
   "cell_type": "code",
   "execution_count": null,
   "id": "0a3a306f",
   "metadata": {},
   "outputs": [],
   "source": [
    "longest_whiskers_wid"
   ]
  },
  {
   "cell_type": "code",
   "execution_count": null,
   "id": "5e61750e",
   "metadata": {},
   "outputs": [],
   "source": [
    "# Get the angle values for the longest whiskers\n",
    "\n",
    "# Initialize l_angles as an empty list\n",
    "l_angles = []\n",
    "# Loop through the unique whisker IDs\n",
    "for wid in longest_whiskers_wid:\n",
    "    # Get the angle values for the current whisker ID\n",
    "    w_angles = summary[summary[:]['wid'] == wid]['angle']\n",
    "    # Append the angle values to the list of angles\n",
    "    l_angles.append(w_angles)\n",
    "\n",
    "# Second list comprehension: fill in the missing values with NaNs\n",
    "# Get the length of the longest list of angles\n",
    "max_len = max([len(l) for l in l_angles])\n",
    "# Loop through the list of angles\n",
    "for i in range(len(l_angles)):\n",
    "    # Get the current list of angles\n",
    "    w_angles = l_angles[i]\n",
    "    # If the length of the current list of angles is less than the maximum length\n",
    "    if len(w_angles) < max_len:\n",
    "        # Append NaNs to the list of angles\n",
    "        l_angles[i] = np.concatenate((w_angles, np.full(max_len - len(w_angles), np.nan)))"
   ]
  },
  {
   "cell_type": "code",
   "execution_count": null,
   "id": "12c4eb6c",
   "metadata": {},
   "outputs": [],
   "source": [
    "l_angles"
   ]
  },
  {
   "cell_type": "code",
   "execution_count": null,
   "id": "776831de",
   "metadata": {},
   "outputs": [],
   "source": [
    "# Create set of colors for those whiskers\n",
    "colors = ['red', 'green', 'blue', 'orange', 'purple', 'brown']\n",
    "\n",
    "# Plot the angle values for the longest whiskers, with different colors for each whisker\n",
    "plt.figure(figsize=(20,10))\n",
    "for i in range(len(l_angles)):\n",
    "    plt.plot(l_angles[i], color=colors[i])\n",
    "plt.xlabel('Time (frames)')\n",
    "plt.ylabel('Angle (degrees)')\n",
    "plt.title('Angle values for the longest whiskers')"
   ]
  },
  {
   "cell_type": "code",
   "execution_count": null,
   "id": "a6055cab-32fe-428f-bfb0-25ef3eaf2646",
   "metadata": {},
   "outputs": [],
   "source": [
    "# Release the resources\n",
    "h5file.close()"
   ]
  }
 ],
 "metadata": {
  "kernelspec": {
   "display_name": "Python 3 (ipykernel)",
   "language": "python",
   "name": "python3"
  },
  "language_info": {
   "codemirror_mode": {
    "name": "ipython",
    "version": 3
   },
   "file_extension": ".py",
   "mimetype": "text/x-python",
   "name": "python",
   "nbconvert_exporter": "python",
   "pygments_lexer": "ipython3",
   "version": "3.8.0"
  }
 },
 "nbformat": 4,
 "nbformat_minor": 5
}
