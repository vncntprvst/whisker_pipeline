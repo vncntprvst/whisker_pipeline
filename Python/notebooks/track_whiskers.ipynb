{
 "cells": [
  {
   "cell_type": "markdown",
   "metadata": {},
   "source": [
    "#### Set data paths"
   ]
  },
  {
   "cell_type": "code",
   "execution_count": null,
   "metadata": {},
   "outputs": [],
   "source": [
    "import os\n",
    "\n",
    "# Example:\n",
    "# file_path = \"home/wanglab/data/whisker_asym/sc014/sc014_0325\"\n",
    "# file_name = \"sc014_0325_001_TopCam0.mp4\"\n",
    "# base_name = \"sc014_0325_001\"\n",
    "# scripts_dir = \"/home/wanglab/scripts/whisk\"\n",
    "# nproc = \"16\"\n",
    "\n",
    "os.environ['HDF5_USE_FILE_LOCKING'] = 'FALSE'\n",
    "\n",
    "# Define your variables here\n",
    "file_path = \"E:/Jaehong/MRN1\"\n",
    "file_name = \"MRN1_TopCam0.mp4\"\n",
    "base_name = \"MRN1\"\n",
    "script_path = \"C:/Code/whisker_pipeline/Python\"\n",
    "nproc = 16\n",
    "\n",
    "print(f\"file_path: {file_path}\")\n",
    "print(f\"file_name: {file_name}\")\n",
    "print(f\"base_name: {base_name}\")"
   ]
  },
  {
   "cell_type": "markdown",
   "metadata": {},
   "source": [
    "#### Track whiskers"
   ]
  },
  {
   "cell_type": "code",
   "execution_count": null,
   "metadata": {},
   "outputs": [],
   "source": [
    "os.environ['file_path'] = file_path\n",
    "os.environ['file_name'] = file_name\n",
    "os.environ['base_name'] = base_name\n",
    "os.environ['script_path'] = script_path\n",
    "os.environ['nproc'] = str(nproc)\n",
    "#  print the command  in the terminal\n",
    "print(f\" Running command: docker run --rm -v \\\"{file_path}:/data\\\" -v \\\"{script_path}:/scripts\\\" wanglabneuro/whisk-ww:latest python /scripts/wt_trace_measure_no_stitch.py \\\"/data/{file_name}\\\" -s -b \\\"{base_name}\\\" -p \\\"{nproc}\\\"\")\n",
    "#  then run the command\n",
    "!docker run --rm -v \"{file_path}:/data\" -v \"{script_path}:/scripts\" wanglabneuro/whisk-ww:latest python /scripts/wt_trace_measure_no_stitch.py \"/data/{file_name}\" -s -b \"{base_name}\" -p \"{nproc}\"\n"
   ]
  },
  {
   "cell_type": "markdown",
   "metadata": {},
   "source": [
    "#### Combine sides and keep midpoint"
   ]
  },
  {
   "cell_type": "code",
   "execution_count": null,
   "metadata": {},
   "outputs": [],
   "source": [
    "#  print the command  in the terminal\n",
    "print(f\" Running command: docker run --rm -v \\\"{file_path}:/data\\\" -v \\\"{script_path}:/scripts\\\" wanglabneuro/whisk-ww:latest python /scripts/combine_sides.py /data/WT \\\"{file_name}\\\" csv -f midpoint\")\n",
    "#  then run the command\n",
    "!docker run --rm -v \"{file_path}:/data\" -v \"{script_path}:/scripts\" wanglabneuro/whisk-ww:latest python /scripts/combine_sides.py /data/WT \"{file_name}\" csv -f midpoint\n"
   ]
  },
  {
   "cell_type": "markdown",
   "metadata": {},
   "source": [
    "#### Load data"
   ]
  },
  {
   "cell_type": "code",
   "execution_count": null,
   "metadata": {},
   "outputs": [],
   "source": [
    "# # Load csv file\n",
    "# import pandas as pd\n",
    "# df = pd.read_csv(os.path.join(file_path, base_name + '_Whisking_midpoint.csv'))\n",
    "\n",
    "# # Load measurement data\n",
    "# import pandas as pd\n",
    "# df = pd.read_hdf(os.path.join(file_path, base_name + '_measurements.h5'), 'df')\n"
   ]
  }
 ],
 "metadata": {
  "kernelspec": {
   "display_name": "whisker_tracking",
   "language": "python",
   "name": "python3"
  },
  "language_info": {
   "codemirror_mode": {
    "name": "ipython",
    "version": 3
   },
   "file_extension": ".py",
   "mimetype": "text/x-python",
   "name": "python",
   "nbconvert_exporter": "python",
   "pygments_lexer": "ipython3",
   "version": "3.10.13"
  }
 },
 "nbformat": 4,
 "nbformat_minor": 2
}
