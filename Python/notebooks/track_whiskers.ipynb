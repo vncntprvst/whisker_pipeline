{
 "cells": [
  {
   "cell_type": "code",
   "execution_count": 1,
   "metadata": {},
   "outputs": [
    {
     "name": "stdout",
     "output_type": "stream",
     "text": [
      "file_path: E:\test\n",
      "file_name: sc016_0630_001_10sWhisking.mp4\n",
      "base_name: sc016_0630_001\n"
     ]
    }
   ],
   "source": [
    "import os\n",
    "\n",
    "# Example:\n",
    "# file_path = \"home/wanglab/data/whisker_asym/sc014/sc014_0325\"\n",
    "# file_name = \"sc014_0325_001_TopCam0.mp4\"\n",
    "# base_name = \"sc014_0325_001\"\n",
    "# scripts_dir = \"/home/wanglab/scripts/whisk\"\n",
    "# nproc = \"16\"\n",
    "\n",
    "os.environ['HDF5_USE_FILE_LOCKING'] = 'FALSE'\n",
    "\n",
    "# Data info\n",
    "file_path = \"E:\\test\"\n",
    "file_name = \"sc016_0630_001_10sWhisking.mp4\"\n",
    "base_name = \"sc016_0630_001\"\n",
    "script_path = \"C:\\Code\\whisker_pipeline\\Python\"\n",
    "nproc = 16\n",
    "\n",
    "print(f\"file_path: {file_path}\")\n",
    "print(f\"file_name: {file_name}\")\n",
    "print(f\"base_name: {base_name}\")"
   ]
  },
  {
   "cell_type": "code",
   "execution_count": 4,
   "metadata": {},
   "outputs": [
    {
     "name": "stderr",
     "output_type": "stream",
     "text": [
      "docker: Error response from daemon: \\%!f(string=is not a valid Windows path)ile_path\\%!(NOVERB).\n",
      "See 'docker run --help'.\n"
     ]
    }
   ],
   "source": [
    "# Track whiskers\n",
    "# Define your variables here\n",
    "\n",
    "!docker run --rm -v %file_path%:/data -v %script_path%:/scripts wanglabneuro/whisk-ww:latest python /scripts/wt_trace_measure.py /data/%file_name% -s -b %base_name% -p %nproc%"
   ]
  },
  {
   "cell_type": "code",
   "execution_count": null,
   "metadata": {},
   "outputs": [],
   "source": [
    "# Combine sides\n",
    "!docker run --rm -v $file_path:/data -v $scripts_dir:/scripts wanglabneuro/whisk-ww:latest python /scripts/combine_sides.py /data/ $file_name hdf5"
   ]
  },
  {
   "cell_type": "code",
   "execution_count": null,
   "metadata": {},
   "outputs": [],
   "source": [
    "# Load data\n",
    "import pandas as pd\n",
    "df = pd.read_hdf(os.path.join(file_path, base_name + '_measurements.h5'), 'df')\n"
   ]
  }
 ],
 "metadata": {
  "kernelspec": {
   "display_name": "whisker_tracking",
   "language": "python",
   "name": "python3"
  },
  "language_info": {
   "codemirror_mode": {
    "name": "ipython",
    "version": 3
   },
   "file_extension": ".py",
   "mimetype": "text/x-python",
   "name": "python",
   "nbconvert_exporter": "python",
   "pygments_lexer": "ipython3",
   "version": "3.10.13"
  }
 },
 "nbformat": 4,
 "nbformat_minor": 2
}
