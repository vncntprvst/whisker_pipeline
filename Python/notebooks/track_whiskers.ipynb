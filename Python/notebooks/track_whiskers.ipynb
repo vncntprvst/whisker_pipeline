{
 "cells": [
  {
   "cell_type": "markdown",
   "metadata": {},
   "source": [
    "#### Set data paths"
   ]
  },
  {
   "cell_type": "code",
   "execution_count": 1,
   "metadata": {},
   "outputs": [
    {
     "name": "stdout",
     "output_type": "stream",
     "text": [
      "file_path: E:/Jaehong/MRN1\n",
      "file_name: MRN1TopCam0.mp4\n",
      "base_name: MRN1\n"
     ]
    }
   ],
   "source": [
    "import os\n",
    "\n",
    "# Example:\n",
    "# file_path = \"home/wanglab/data/whisker_asym/sc014/sc014_0325\"\n",
    "# file_name = \"sc014_0325_001_TopCam0.mp4\"\n",
    "# base_name = \"sc014_0325_001\"\n",
    "# scripts_dir = \"/home/wanglab/scripts/whisk\"\n",
    "# nproc = \"16\"\n",
    "\n",
    "os.environ['HDF5_USE_FILE_LOCKING'] = 'FALSE'\n",
    "\n",
    "# Define your variables here\n",
    "file_path = \"E:/Jaehong/MRN1\"\n",
    "file_name = \"MRN1TopCam0.mp4\"\n",
    "base_name = \"MRN1\"\n",
    "script_path = \"C:/Code/whisker_pipeline/Python\"\n",
    "nproc = 16\n",
    "\n",
    "print(f\"file_path: {file_path}\")\n",
    "print(f\"file_name: {file_name}\")\n",
    "print(f\"base_name: {base_name}\")"
   ]
  },
  {
   "cell_type": "markdown",
   "metadata": {},
   "source": [
    "#### Track whiskers"
   ]
  },
  {
   "cell_type": "code",
   "execution_count": 2,
   "metadata": {},
   "outputs": [
    {
     "name": "stdout",
     "output_type": "stream",
     "text": [
      " Running command: docker run --rm -v \"E:/Jaehong/MRN1:/data\" -v \"C:/Code/whisker_pipeline/Python:/scripts\" wanglabneuro/whisk-ww:latest python /scripts/wt_trace_measure_no_stitch.py \"/data/MRN1TopCam0.mp4\" -s -b \"MRN1\" -p \"16\"\n",
      "WHISKPATH detected:  /home/miniconda3/envs/WhiskiWrap/lib/python3.10/site-packages/whisk/bin/\n",
      "WHISKPATH detected:  /home/miniconda3/envs/WhiskiWrap/lib/python3.10/site-packages/whisk/bin/\n",
      "Updating permissions of executable files in the 'whisk/bin' directory\n",
      "Updated permissions for whisker_convert\n",
      "Updated permissions for vsplit\n",
      "Updated permissions for classify\n",
      "Updated permissions for seedtest\n",
      "Updated permissions for report\n",
      "Updated permissions for measurements_convert\n",
      "Updated permissions for classify-single-whisker\n",
      "Updated permissions for reclassify\n",
      "Updated permissions for preprocess\n",
      "Updated permissions for stripetest\n",
      "Updated permissions for classify_radial\n",
      "Updated permissions for totif\n",
      "Updated permissions for measure\n",
      "Updated permissions for trace\n",
      "Permissions update complete.\n"
     ]
    },
    {
     "name": "stderr",
     "output_type": "stream",
     "text": [
      "Traceback (most recent call last):\n",
      "  File \"/scripts/wt_trace_measure_no_stitch.py\", line 165, in <module>\n",
      "    main()\n",
      "  File \"/scripts/wt_trace_measure_no_stitch.py\", line 162, in main\n",
      "    trace_measure(input_file, base_name, output_dir, nproc, splitUp)\n",
      "  File \"/scripts/wt_trace_measure_no_stitch.py\", line 42, in trace_measure\n",
      "    whiskerpadParams, splitUp = wp.WhiskerPad.get_whiskerpad_params(whiskerpad)\n",
      "  File \"/scripts/whiskerpad.py\", line 82, in get_whiskerpad_params\n",
      "    fp, initialFrame = WhiskerPad.get_nose_tip_coordinates(args.video_file, args.video_dir)\n",
      "  File \"/scripts/whiskerpad.py\", line 537, in get_nose_tip_coordinates\n",
      "    gray, opening = WhiskerPad.morph_open(image, crop=True)\n",
      "  File \"/scripts/whiskerpad.py\", line 494, in morph_open\n",
      "    if image.ndim == 3 and image.shape[2] == 3:  # Check if image has 3 dimensions and 3 channels (BGR)\n",
      "AttributeError: 'NoneType' object has no attribute 'ndim'\n"
     ]
    }
   ],
   "source": [
    "os.environ['file_path'] = file_path\n",
    "os.environ['file_name'] = file_name\n",
    "os.environ['base_name'] = base_name\n",
    "os.environ['script_path'] = script_path\n",
    "os.environ['nproc'] = str(nproc)\n",
    "#  print the command  in the terminal\n",
    "print(f\" Running command: docker run --rm -v \\\"{file_path}:/data\\\" -v \\\"{script_path}:/scripts\\\" wanglabneuro/whisk-ww:latest python /scripts/wt_trace_measure_no_stitch.py \\\"/data/{file_name}\\\" -s -b \\\"{base_name}\\\" -p \\\"{nproc}\\\"\")\n",
    "#  then run the command\n",
    "!docker run --rm -v \"{file_path}:/data\" -v \"{script_path}:/scripts\" wanglabneuro/whisk-ww:latest python /scripts/wt_trace_measure_no_stitch.py \"/data/{file_name}\" -s -b \"{base_name}\" -p \"{nproc}\"\n"
   ]
  },
  {
   "cell_type": "markdown",
   "metadata": {},
   "source": [
    "#### Combine sides and keep midpoint"
   ]
  },
  {
   "cell_type": "code",
   "execution_count": 30,
   "metadata": {},
   "outputs": [
    {
     "name": "stdout",
     "output_type": "stream",
     "text": [
      " Running command: docker run --rm -v \"E:/Jaehong/MRN2:/data\" -v \"C:/Code/whisker_pipeline/Python:/scripts\" wanglabneuro/whisk-ww:latest python /scripts/combine_sides.py /data/WT \"MRN2-1_TopCam0.mp4\" csv -f midpoint\n"
     ]
    },
    {
     "name": "stderr",
     "output_type": "stream",
     "text": [
      "docker: error during connect: this error may indicate that the docker daemon is not running: Post \"http://%2F%2F.%2Fpipe%2Fdocker_engine/v1.24/containers/create\": open //./pipe/docker_engine: The system cannot find the file specified.\n",
      "See 'docker run --help'.\n"
     ]
    }
   ],
   "source": [
    "#  print the command  in the terminal\n",
    "print(f\" Running command: docker run --rm -v \\\"{file_path}:/data\\\" -v \\\"{script_path}:/scripts\\\" wanglabneuro/whisk-ww:latest python /scripts/combine_sides.py /data/WT \\\"{file_name}\\\" csv -f midpoint\")\n",
    "#  then run the command\n",
    "!docker run --rm -v \"{file_path}:/data\" -v \"{script_path}:/scripts\" wanglabneuro/whisk-ww:latest python /scripts/combine_sides.py /data/WT \"{file_name}\" csv -f midpoint\n"
   ]
  },
  {
   "cell_type": "markdown",
   "metadata": {},
   "source": [
    "#### Load data"
   ]
  },
  {
   "cell_type": "code",
   "execution_count": 31,
   "metadata": {},
   "outputs": [],
   "source": [
    "# # Load csv file\n",
    "# import pandas as pd\n",
    "# df = pd.read_csv(os.path.join(file_path, base_name + '_Whisking_midpoint.csv'))\n",
    "\n",
    "# # Load measurement data\n",
    "# import pandas as pd\n",
    "# df = pd.read_hdf(os.path.join(file_path, base_name + '_measurements.h5'), 'df')\n"
   ]
  }
 ],
 "metadata": {
  "kernelspec": {
   "display_name": "whisker_tracking",
   "language": "python",
   "name": "python3"
  },
  "language_info": {
   "codemirror_mode": {
    "name": "ipython",
    "version": 3
   },
   "file_extension": ".py",
   "mimetype": "text/x-python",
   "name": "python",
   "nbconvert_exporter": "python",
   "pygments_lexer": "ipython3",
   "version": "3.10.13"
  }
 },
 "nbformat": 4,
 "nbformat_minor": 2
}
