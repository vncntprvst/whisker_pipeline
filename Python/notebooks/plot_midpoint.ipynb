{
 "cells": [
  {
   "cell_type": "code",
   "execution_count": null,
   "metadata": {},
   "outputs": [],
   "source": [
    "import os\n",
    "from pathlib import Path\n",
    "\n",
    "# file_path=Path('E:/test/midpoint')\n",
    "# file_name=\"sc016_0630_001_10sWhisking.mp4\"\n",
    "# base_name=\"sc016_0630_001\"\n",
    "script_path=Path('C:/Code/whisker_pipeline/Python')\n",
    "nproc=16\n",
    "file_path=Path('E:\\mw_test')\n",
    "file_name=\"MRN-TelC2-wholeW_10sWhisking.mp4\"\n",
    "base_name=\"MRN-TelC\"\n",
    "\n",
    "midpoint_data = file_path / file_name.replace(\".mp4\", \"_midpoint.csv\")\n"
   ]
  },
  {
   "cell_type": "code",
   "execution_count": null,
   "metadata": {},
   "outputs": [],
   "source": [
    "#  Load the midpoint data\n",
    "import pandas as pd\n",
    "midpoint = pd.read_csv(midpoint_data, index_col=0)\n",
    "midpoint"
   ]
  },
  {
   "cell_type": "code",
   "execution_count": null,
   "metadata": {},
   "outputs": [],
   "source": [
    "#  Plot midpoint_left and midpoint_right\n",
    "import matplotlib.pyplot as plt\n",
    "import numpy as np\n",
    "plt.plot(midpoint['midpoint_left'])\n",
    "plt.plot(midpoint['midpoint_right'])\n",
    "plt.show()\n"
   ]
  },
  {
   "cell_type": "code",
   "execution_count": null,
   "metadata": {},
   "outputs": [],
   "source": [
    "# import WhiskiWrap\n",
    "tracking_folder = str(file_path / \"WT\")\n",
    "whiskers_file = f\"{base_name}_left_00000000.whiskers\"\n",
    "# measurements = WhiskiWrap.read_whisker_data(whiskers_file)\n",
    "\n",
    "# !docker run --rm -v \"{tracking_folder}:/data\" wanglabneuro/whisk-ww:latest python -c \"from WhiskiWrap import WhiskiWrap; measurements = WhiskiWrap.read_whisker_data('/data/{whiskers_file}')\"\n",
    "\n",
    "import pandas as pd\n",
    "import json\n",
    "tracking_folder = str(file_path / \"WT\")\n",
    "whiskers_file = f\"{base_name}_left_00000000.whiskers\"\n",
    "output_file = \"measurements.json\"\n",
    "\n",
    "!docker run --rm -v \"{tracking_folder}:/data\" wanglabneuro/whisk-ww:latest python -c \"from WhiskiWrap import WhiskiWrap; import json; measurements = WhiskiWrap.read_whisker_data('/data/{whiskers_file}'); with open('/data/{output_file}', 'w') as f: json.dump(measurements, f)\"with open(f\"{tracking_folder}/{output_file}\", 'r') as f:\n",
    "\n",
    "with open(f\"{tracking_folder}/{output_file}\", 'r') as f:\n",
    "    measurements = json.load(f)"
   ]
  }
 ],
 "metadata": {
  "kernelspec": {
   "display_name": "whisker_tracking",
   "language": "python",
   "name": "python3"
  },
  "language_info": {
   "codemirror_mode": {
    "name": "ipython",
    "version": 3
   },
   "file_extension": ".py",
   "mimetype": "text/x-python",
   "name": "python",
   "nbconvert_exporter": "python",
   "pygments_lexer": "ipython3",
   "version": "3.10.13"
  }
 },
 "nbformat": 4,
 "nbformat_minor": 2
}
