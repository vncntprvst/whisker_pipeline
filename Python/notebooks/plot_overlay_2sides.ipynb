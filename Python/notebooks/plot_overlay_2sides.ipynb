{
 "cells": [
  {
   "attachments": {},
   "cell_type": "markdown",
   "id": "e89cd0a0",
   "metadata": {},
   "source": [
    "We will plot the three longest whiskers on each side, one side after each other"
   ]
  },
  {
   "cell_type": "code",
   "execution_count": null,
   "id": "9fd00faf-1cc9-4502-82df-7dd95d240bcb",
   "metadata": {},
   "outputs": [],
   "source": [
    "import os\n",
    "import cv2\n",
    "from pathlib import Path\n",
    "import tables\n",
    "import numpy as np\n",
    "import json\n",
    "%matplotlib inline\n",
    "import matplotlib.pyplot as plt"
   ]
  },
  {
   "cell_type": "code",
   "execution_count": null,
   "id": "b9454247",
   "metadata": {},
   "outputs": [],
   "source": [
    "# Navigate to the directory where the video and tracking data is stored\n",
    "# data_dir=\"E:/test/whisker_tracking\"\n",
    "data_dir=Path('/home/wanglab/data/whisker_asym/sc012/test')\n",
    "    # '/home/wanglab/data/whisker_asym/sc014/sc014_0325/sc014_0325_002/raw_data/behav_vid'\n",
    "# video_name=\"whiskers.mp4\"\n",
    "video_name=\"sc012_0119_001_20230119_10sWhisking.mp4\"\n",
    "# \"sc014_0325_002.mp4\"\n",
    "video_file=os.path.join(data_dir,video_name)\n",
    "os.chdir(data_dir)"
   ]
  },
  {
   "cell_type": "code",
   "execution_count": null,
   "id": "00a39c48",
   "metadata": {},
   "outputs": [],
   "source": [
    "# open WT/output_right.hdf5\n",
    "# h5file_right = tables.open_file(data_dir / 'WT' / 'output_right.hdf5', mode='r')\n",
    "# h5file_right\n",
    "\n",
    "# Open the combined hdf5 file\n",
    "# h5file = tables.open_file(data_dir / 'sc012_0119_001.hdf5', mode='r')\n",
    "# h5file"
   ]
  },
  {
   "cell_type": "code",
   "execution_count": null,
   "id": "1cd87456",
   "metadata": {},
   "outputs": [],
   "source": [
    "# summary = h5file.get_node('/summary')\n",
    "# summary[:10]"
   ]
  },
  {
   "cell_type": "code",
   "execution_count": null,
   "id": "b25f4edd",
   "metadata": {},
   "outputs": [],
   "source": [
    "import zarr\n",
    "import json\n",
    "# Open the combined zarr file\n",
    "zarrdir = data_dir / 'sc012_0119_001.zarr'\n",
    "# bu_zarrdir = data_dir / 'sc012_0119_001.zarr.bu'\n",
    "# Open the Zarr file\n",
    "zarr_file = zarr.open(zarrdir, mode='r')\n",
    "# bu_zarr_file = zarr.open(bu_zarrdir, mode='r')"
   ]
  },
  {
   "cell_type": "code",
   "execution_count": null,
   "id": "ea23d6d2",
   "metadata": {},
   "outputs": [],
   "source": [
    "# bu_zarr_file['pixels_x']\n",
    "zarr_file['pixels_x']"
   ]
  },
  {
   "cell_type": "code",
   "execution_count": null,
   "id": "a778b68e",
   "metadata": {},
   "outputs": [],
   "source": [
    "# Retrieve and print the summary table content\n",
    "summary = zarr_file['summary'][:]\n",
    "print(\"Summary Data first 5 rows:\")\n",
    "print(summary[:5])\n",
    "\n",
    "# # Retrieve and print the pixels_x content\n",
    "# pixels_x = [json.loads(x) for x in zarr_file['pixels_x'][:]]\n",
    "# print(\"\\nPixels X Data first 5 rows:\")\n",
    "# print(pixels_x[:5])\n",
    "\n",
    "# # Retrieve and print the pixels_y content\n",
    "# pixels_y = [json.loads(y) for y in zarr_file['pixels_y'][:]]\n",
    "# print(\"\\nPixels Y Data first 5 rows:\")\n",
    "# print(pixels_y[:5])\n",
    "\n",
    "# Retrieve and print the pixels_x content\n",
    "pixels_x = []\n",
    "indices_x = zarr_file['pixels_x_indices'][:]\n",
    "for start, end in indices_x[:5]:  # Get the first 5 rows\n",
    "    pixels_x.append(zarr_file['pixels_x'][start:end])\n",
    "\n",
    "print(\"\\nPixels X Data first 5 rows:\")\n",
    "print(pixels_x)\n",
    "\n",
    "# Retrieve and print the pixels_y content\n",
    "pixels_y = []\n",
    "indices_y = zarr_file['pixels_y_indices'][:]\n",
    "for start, end in indices_y[:5]:  # Get the first 5 rows\n",
    "    pixels_y.append(zarr_file['pixels_y'][start:end])\n",
    "\n",
    "print(\"\\nPixels Y Data first 5 rows:\")\n",
    "print(pixels_y)"
   ]
  },
  {
   "cell_type": "code",
   "execution_count": null,
   "id": "167faac1",
   "metadata": {},
   "outputs": [],
   "source": [
    "for i in range(5):\n",
    "    print(np.shape(pixels_x[i]))\n",
    "    print(np.shape(pixels_y[i]))"
   ]
  },
  {
   "cell_type": "code",
   "execution_count": null,
   "id": "6e5bfbfe",
   "metadata": {},
   "outputs": [],
   "source": [
    "# Plot the first 5 whiskers\n",
    "for i in range(5):\n",
    "    plt.plot(pixels_x[i], pixels_y[i])\n",
    "plt.gca().invert_yaxis()\n",
    "plt.show()"
   ]
  },
  {
   "cell_type": "code",
   "execution_count": null,
   "id": "679b1c1a",
   "metadata": {},
   "outputs": [],
   "source": [
    "#  Save summary to a csv file\n",
    "import pandas as pd\n",
    "\n",
    "# summary_df = summary.read()\n",
    "# summary_df = pd.DataFrame(summary_df)\n",
    "# summary_df.to_csv(data_dir / 'summary_hdf5.csv', index=False)\n",
    "\n",
    "# Retrieve the summary data\n",
    "summary = zarr_file['summary'][:]\n",
    "\n",
    "# Convert to pandas DataFrame\n",
    "summary_df = pd.DataFrame(summary, columns=zarr_file['summary'].dtype.names)\n",
    "\n",
    "# Decode byte strings in the 'face_side' field\n",
    "summary_df['face_side'] = summary_df['face_side'].str.decode('utf-8')\n",
    "\n",
    "#  Save the DataFrame to a CSV file\n",
    "csv_file = data_dir / 'summary_zarr_fast.csv'\n",
    "summary_df.to_csv(csv_file, index=False)"
   ]
  },
  {
   "cell_type": "code",
   "execution_count": null,
   "id": "53c63fe7",
   "metadata": {},
   "outputs": [],
   "source": [
    "summary_df"
   ]
  },
  {
   "cell_type": "code",
   "execution_count": null,
   "id": "b2946e1f-9981-4fda-a5f0-d14655ca8cea",
   "metadata": {},
   "outputs": [],
   "source": [
    "# Open the HDF5 file and get the pixel data\n",
    "face_side = 'left'\n",
    "h5file = tables.open_file(f'{os.path.basename(video_name).split(\".\")[0]}_{face_side}.hdf5', mode='r')\n",
    "pixels_x = h5file.get_node('/pixels_x')\n",
    "pixels_y = h5file.get_node('/pixels_y')\n",
    "\n",
    "# Get the summary data\n",
    "summary = h5file.get_node('/summary')\n",
    "\n",
    "# Get unique whisker IDs\n",
    "whisker_ids = np.unique(summary[:]['wid'])\n",
    "\n",
    "# Create set of colors for up to 20 whiskers, starting with red, green, blue\n",
    "colors = [(255,0,0), (0,255,0), (0,0,255), (255,255,0), (255,0,255),\n",
    "            (0,255,255), (128,0,0), (0,128,0), (0,0,128), (128,128,0),\n",
    "            (128,0,128), (0,128,128), (64,0,0), (0,64,0), (0,0,64),\n",
    "            (64,64,0), (64,0,64), (0,64,64), (192,0,0), (0,192,0)]"
   ]
  },
  {
   "cell_type": "code",
   "execution_count": null,
   "id": "ec702a04",
   "metadata": {},
   "outputs": [],
   "source": [
    "# If using split data (left or right whiskers), open the corresponding whiskerpad_{side}.json file\n",
    "with open(f'whiskerpad_{os.path.basename(video_name).split(\".\")[0]}.json', 'r') as f:\n",
    "    whiskerpad_params = json.load(f)\n",
    "\n",
    "# Enumerate whiskerpads field and find the \"Location\" value for the whiskerpad that has \"FaceSide\" value of face_side\n",
    "for i, whiskerpad in enumerate(whiskerpad_params['whiskerpads']):\n",
    "    if whiskerpad['FaceSide'].lower() == face_side:\n",
    "        whiskerpad_location = whiskerpad['Location']\n",
    "        image_coord = whiskerpad['ImageCoordinates']\n",
    "        break\n",
    "\n",
    "# Convert whiskerpad_location to a NumPy array\n",
    "whiskerpad_location = np.array(whiskerpad_location)\n",
    "\n",
    "# Get the table index for the first frame, with fid = 0 \n",
    "first_frame_idx = np.where(summary[:]['fid'] == 0)[0]\n",
    "\n",
    "# Get the index for the three longest whiskers in the first frame\n",
    "longest_whiskers = np.argsort(summary[first_frame_idx]['length'])[-3:]\n",
    "\n",
    "# # Sort them by the face_x coordinate\n",
    "longest_whiskers = longest_whiskers[np.argsort(summary[first_frame_idx]['follicle_y'][longest_whiskers])]"
   ]
  },
  {
   "cell_type": "code",
   "execution_count": null,
   "id": "0a3a306f",
   "metadata": {},
   "outputs": [],
   "source": [
    "longest_whiskers"
   ]
  },
  {
   "cell_type": "code",
   "execution_count": null,
   "id": "2b53232c",
   "metadata": {},
   "outputs": [],
   "source": [
    "# Read in a frame of the video\n",
    "frame_num = 0\n",
    "cap = cv2.VideoCapture('whiskers.mp4')\n",
    "cap.set(cv2.CAP_PROP_POS_FRAMES, frame_num)\n",
    "ret, frame = cap.read()"
   ]
  },
  {
   "cell_type": "code",
   "execution_count": null,
   "id": "37ae51d5",
   "metadata": {},
   "outputs": [],
   "source": [
    "first_frame_idx"
   ]
  },
  {
   "cell_type": "code",
   "execution_count": null,
   "id": "287b08da",
   "metadata": {},
   "outputs": [],
   "source": [
    "# # Print first values of pixels_x and pixels_y for the first frame, for  all whiskers\n",
    "# print(\"Pixel_x and Pixels_y values for first frame, for all whiskers:\")\n",
    "# for whisker_id in first_frame_idx:\n",
    "#     print(pixels_x[whisker_id][0], pixels_y[whisker_id][0])\n",
    "\n",
    "# # Print the follicle_x and follicle_y values for the first frame, for all whiskers\n",
    "# print(\"Follicle_x and Follicle_y values for first frame, for all whiskers:\")\n",
    "# for whisker_id in first_frame_idx:\n",
    "#     print(summary[whisker_id]['follicle_x'], summary[whisker_id]['follicle_y'])"
   ]
  },
  {
   "cell_type": "code",
   "execution_count": null,
   "id": "d575f4ea-0f5a-4927-8bb7-9a52675aac2e",
   "metadata": {},
   "outputs": [],
   "source": [
    "# Using index of three longest whiskers, plot the whiskers on the frame\n",
    "for i, whisker_id in enumerate(longest_whiskers):\n",
    "    color_index = i % len(colors)\n",
    "    color = colors[color_index]\n",
    "    print(f'Whisker ID: {whisker_id}, color: {color}')\n",
    "\n",
    "    print(pixels_x[whisker_id][0], pixels_y[whisker_id][0])\n",
    "    for j in range(pixels_x[whisker_id].shape[0]):\n",
    "        # add the image_coord first two values\n",
    "        x = int(pixels_x[whisker_id][j]) + image_coord[0]\n",
    "        y = int(pixels_y[whisker_id][j]) + image_coord[1]\n",
    "        cv2.circle(frame, (x,y), 2, color, -1)"
   ]
  },
  {
   "cell_type": "code",
   "execution_count": null,
   "id": "d3cef652-5222-4d81-860b-7822879a665c",
   "metadata": {
    "tags": []
   },
   "outputs": [],
   "source": [
    "# Plot the frame below the cell in the notebook\n",
    "plt.imshow(frame)"
   ]
  },
  {
   "cell_type": "code",
   "execution_count": null,
   "id": "8f32443e-d2cd-4b3c-a321-a02e2391e7f3",
   "metadata": {},
   "outputs": [],
   "source": [
    "# Now the same for the right side:\n",
    "face_side = 'right'\n",
    "h5file = tables.open_file(f'{os.path.basename(video_name).split(\".\")[0]}_{face_side}.hdf5', mode='r')\n",
    "pixels_x = h5file.get_node('/pixels_x')\n",
    "pixels_y = h5file.get_node('/pixels_y')\n",
    "\n",
    "# Get the summary data\n",
    "summary = h5file.get_node('/summary')\n",
    "\n",
    "# Get unique whisker IDs\n",
    "whisker_ids = np.unique(summary[:]['wid'])\n",
    "\n",
    "# Create a different set of colors for up to 20 whiskers\n",
    "colors = [(255,0,0), (0,255,0), (0,0,255), (255,255,0), (255,0,255),\n",
    "            (0,255,255), (128,0,0), (0,128,0), (0,0,128), (128,128,0),\n",
    "            (128,0,128), (0,128,128), (64,0,0), (0,64,0), (0,0,64),\n",
    "            (64,64,0), (64,0,64), (0,64,64), (192,0,0), (0,192,0)]\n"
   ]
  },
  {
   "cell_type": "code",
   "execution_count": null,
   "id": "1c630315-12e6-4d48-b090-ff986f6c030a",
   "metadata": {},
   "outputs": [],
   "source": [
    "# Enumerate whiskerpads field and find the \"Location\" value for the whiskerpad that has \"FaceSide\" value of face_side\n",
    "for i, whiskerpad in enumerate(whiskerpad_params['whiskerpads']):\n",
    "    if whiskerpad['FaceSide'].lower() == face_side:\n",
    "        whiskerpad_location = whiskerpad['Location']\n",
    "        image_coord = whiskerpad['ImageCoordinates']\n",
    "        break\n",
    "\n",
    "# Convert whiskerpad_location to a NumPy array\n",
    "whiskerpad_location = np.array(whiskerpad_location)\n",
    "\n",
    "# Get the table index for the first frame, with fid = 0 \n",
    "first_frame_idx = np.where(summary[:]['fid'] == 0)[0]\n",
    "\n",
    "# Get the index for the three longest whiskers in the first frame\n",
    "longest_whiskers = np.argsort(summary[first_frame_idx]['length'])[-3:]\n",
    "\n",
    "# Sort them by the face_x coordinate\n",
    "longest_whiskers = longest_whiskers[np.argsort(summary[first_frame_idx]['follicle_y'][longest_whiskers])]"
   ]
  },
  {
   "cell_type": "code",
   "execution_count": null,
   "id": "4b63a270",
   "metadata": {},
   "outputs": [],
   "source": [
    "longest_whiskers"
   ]
  },
  {
   "cell_type": "code",
   "execution_count": null,
   "id": "1040872d",
   "metadata": {},
   "outputs": [],
   "source": [
    "# Using index of three longest whiskers, plot the whiskers on the frame\n",
    "for i, whisker_id in enumerate(longest_whiskers):\n",
    "    color_index = i % len(colors)\n",
    "    color = colors[color_index]\n",
    "    for i in range(pixels_x[whisker_id].shape[0]):\n",
    "        # add the image_coord first two values\n",
    "        x = int(pixels_x[whisker_id][i]) + image_coord[0]\n",
    "        y = int(pixels_y[whisker_id][i]) + image_coord[1]\n",
    "        cv2.circle(frame, (x,y), 2, color, -1)"
   ]
  },
  {
   "cell_type": "code",
   "execution_count": null,
   "id": "dafd9728",
   "metadata": {},
   "outputs": [],
   "source": [
    "# Plot the frame below the cell in the notebook\n",
    "plt.imshow(frame)"
   ]
  },
  {
   "cell_type": "code",
   "execution_count": null,
   "id": "a6055cab-32fe-428f-bfb0-25ef3eaf2646",
   "metadata": {},
   "outputs": [],
   "source": [
    "# Release the resources\n",
    "cap.release()\n",
    "h5file.close()"
   ]
  }
 ],
 "metadata": {
  "kernelspec": {
   "display_name": "Python 3 (ipykernel)",
   "language": "python",
   "name": "python3"
  },
  "language_info": {
   "codemirror_mode": {
    "name": "ipython",
    "version": 3
   },
   "file_extension": ".py",
   "mimetype": "text/x-python",
   "name": "python",
   "nbconvert_exporter": "python",
   "pygments_lexer": "ipython3",
   "version": "3.10.14"
  }
 },
 "nbformat": 4,
 "nbformat_minor": 5
}
