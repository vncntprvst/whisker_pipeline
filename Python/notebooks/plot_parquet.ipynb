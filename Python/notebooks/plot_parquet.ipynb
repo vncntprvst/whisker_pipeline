{
 "cells": [
  {
   "attachments": {},
   "cell_type": "markdown",
   "id": "e89cd0a0",
   "metadata": {},
   "source": [
    "Plot the three longest whiskers from the first frame of the video."
   ]
  },
  {
   "cell_type": "code",
   "execution_count": null,
   "id": "bf121638",
   "metadata": {},
   "outputs": [],
   "source": [
    "import pyarrow.parquet as pq\n",
    "import pandas as pd\n",
    "import matplotlib.pyplot as plt\n",
    "import numpy as np\n",
    "import os\n",
    "import cv2\n",
    "import json"
   ]
  },
  {
   "cell_type": "code",
   "execution_count": null,
   "id": "6cbcb0d7",
   "metadata": {},
   "outputs": [],
   "source": [
    "# Data directory\n",
    "data_dir = '/home/wanglab/data/whisker_asym/wa001/test'\n",
    "# Load the Parquet file\n",
    "parquet_file = 'WA001_080224_01_left.parquet'\n",
    "table = pq.read_table(f'{data_dir}/{parquet_file}')\n",
    "\n",
    "# Convert the table to a Pandas DataFrame\n",
    "df = table.to_pandas()\n",
    "df"
   ]
  },
  {
   "cell_type": "code",
   "execution_count": null,
   "id": "4bfdab7c",
   "metadata": {},
   "outputs": [],
   "source": [
    "# Filter the DataFrame to include only the first frame (fid = 0)\n",
    "first_frame_df = df[df['fid'] == 0]\n",
    "\n",
    "# Sort by the \"length\" column and take the top 3 longest whiskers\n",
    "# longest_whiskers = first_frame_df.nlargest(3, 'length')\n",
    "\n",
    "# Sort by the \"pixel_length\" column and take the top 3 longest whiskers\n",
    "longest_whiskers = first_frame_df.nlargest(3, 'pixel_length')\n",
    "longest_whiskers"
   ]
  },
  {
   "cell_type": "code",
   "execution_count": null,
   "id": "b37534df",
   "metadata": {},
   "outputs": [],
   "source": [
    "# Plot each whisker\n",
    "plt.figure(figsize=(8, 6))\n",
    "\n",
    "for index, row in longest_whiskers.iterrows():\n",
    "    # Pixels for the whisker\n",
    "    pixels_x = row['pixels_x']\n",
    "    pixels_y = row['pixels_y']\n",
    "    \n",
    "    # Follicle coordinates\n",
    "    follicle_x = row['follicle_x']\n",
    "    follicle_y = row['follicle_y']\n",
    "    \n",
    "    # Adjust coordinates to use follicle as origin\n",
    "    adjusted_pixels_x = [x - follicle_x for x in pixels_x]\n",
    "    adjusted_pixels_y = [y - follicle_y for y in pixels_y]\n",
    "    \n",
    "    # Plot the whisker\n",
    "    # plt.plot(adjusted_pixels_x, adjusted_pixels_y, label=f'Whisker {row[\"wid\"]} (Length: {row[\"length\"]})')\n",
    "    plt.plot(pixels_x, pixels_y, label=f'Whisker {row[\"wid\"]} (Length: {row[\"length\"]})')\n",
    "    \n",
    "# Set plot labels and title\n",
    "plt.xlabel('X pixels (adjusted)')\n",
    "plt.ylabel('Y pixels (adjusted)')\n",
    "plt.title('Top 3 Longest Whiskers from First Frame (fid = 0)')\n",
    "plt.legend()\n",
    "plt.grid(True)\n",
    "# Reverse the y-axis\n",
    "plt.gca().invert_yaxis()\n",
    "plt.show()"
   ]
  },
  {
   "cell_type": "code",
   "execution_count": null,
   "id": "24f6be08",
   "metadata": {},
   "outputs": [],
   "source": [
    "# Read in a frame of the video\n",
    "video_name = 'WA001_080224_01_TopCam_10s.mp4'\n",
    "frame_num = 0\n",
    "cap = cv2.VideoCapture(f'{data_dir}/{video_name}')\n",
    "cap.set(cv2.CAP_PROP_POS_FRAMES, frame_num)\n",
    "ret, frame = cap.read()\n",
    "# Display the frame\n",
    "plt.figure(figsize=(8, 6))\n",
    "plt.imshow(frame)"
   ]
  },
  {
   "cell_type": "code",
   "execution_count": null,
   "id": "25523afb",
   "metadata": {},
   "outputs": [],
   "source": [
    "# Create set of colors for up to 20 whiskers, starting with red, green, blue\n",
    "colors = [(255,0,0), (0,255,0), (0,0,255), (255,255,0), (255,0,255),\n",
    "            (0,255,255), (128,0,0), (0,128,0), (0,0,128), (128,128,0),\n",
    "            (128,0,128), (0,128,128), (64,0,0), (0,64,0), (0,0,64),\n",
    "            (64,64,0), (64,0,64), (0,64,64), (192,0,0), (0,192,0)]"
   ]
  },
  {
   "cell_type": "code",
   "execution_count": null,
   "id": "b3f8ef92",
   "metadata": {},
   "outputs": [],
   "source": [
    "face_side = 'left'\n",
    "base_name = 'WA001_080224_01'\n",
    "# If using split data (left or right whiskers), open the corresponding whiskerpad_{side}.json file\n",
    "with open(f'{data_dir}/whiskerpad_{os.path.basename(base_name).split(\".\")[0]}.json', 'r') as f:\n",
    "    whiskerpad_params = json.load(f)\n",
    "\n",
    "# Enumerate whiskerpads field and find the \"Location\" value for the whiskerpad that has \"FaceSide\" value of face_side\n",
    "for i, whiskerpad in enumerate(whiskerpad_params['whiskerpads']):\n",
    "    if whiskerpad['FaceSide'].lower() == face_side:\n",
    "        whiskerpad_location = whiskerpad['Location']\n",
    "        image_coord = whiskerpad['ImageCoordinates']\n",
    "        break\n",
    "\n",
    "# Convert whiskerpad_location to a NumPy array\n",
    "whiskerpad_location = np.array(whiskerpad_location)\n",
    "\n",
    "whiskerpad_location"
   ]
  },
  {
   "cell_type": "code",
   "execution_count": null,
   "id": "447419df",
   "metadata": {},
   "outputs": [],
   "source": [
    "# Using index of three longest whiskers, plot the whiskers on the frame\n",
    "for index, whisker_data in longest_whiskers.iterrows():\n",
    "    color_index = index % len(colors)\n",
    "    color = colors[color_index]\n",
    "    print(f\"Whisker ID: {whisker_data['wid']}, color: {color}\")\n",
    "\n",
    "    print(whisker_data['pixels_x'][0], whisker_data['pixels_y'][0])\n",
    "    for j in range(whisker_data['pixels_x'].shape[0]):\n",
    "        # add the image_coord first two values\n",
    "        x = int(whisker_data['pixels_x'][j]) + image_coord[0]\n",
    "        y = int(whisker_data['pixels_y'][j]) + image_coord[1]\n",
    "        cv2.circle(frame, (x, y), 2, color, -1)"
   ]
  },
  {
   "cell_type": "code",
   "execution_count": null,
   "id": "8a6664bf",
   "metadata": {},
   "outputs": [],
   "source": [
    "# Same thing for right side\n",
    "face_side = 'right'\n",
    "base_name = 'WA001_080224_01'\n",
    "# If using split data (left or right whiskers), open the corresponding whiskerpad_{side}.json file\n",
    "with open(f'{data_dir}/whiskerpad_{os.path.basename(base_name).split(\".\")[0]}.json', 'r') as f:\n",
    "    whiskerpad_params = json.load(f)\n",
    "\n",
    "# Enumerate whiskerpads field and find the \"Location\" value for the whiskerpad that has \"FaceSide\" value of face_side\n",
    "for i, whiskerpad in enumerate(whiskerpad_params['whiskerpads']):\n",
    "    if whiskerpad['FaceSide'].lower() == face_side:\n",
    "        whiskerpad_location = whiskerpad['Location']\n",
    "        image_coord = whiskerpad['ImageCoordinates']\n",
    "        break\n",
    "\n",
    "# Convert whiskerpad_location to a NumPy array\n",
    "whiskerpad_location = np.array(whiskerpad_location)\n",
    "\n",
    "# Data directory\n",
    "data_dir = '/home/wanglab/data/whisker_asym/wa001/test'\n",
    "# Load the Parquet file\n",
    "parquet_file = 'WA001_080224_01_right.parquet'\n",
    "table = pq.read_table(f'{data_dir}/{parquet_file}')\n",
    "\n",
    "# Convert the table to a Pandas DataFrame\n",
    "df = table.to_pandas()\n",
    "# Filter the DataFrame to include only the first frame (fid = 0)\n",
    "first_frame_df = df[df['fid'] == 0]\n",
    "\n",
    "# Sort by the \"pixel_length\" column and take the top 3 longest whiskers\n",
    "longest_whiskers = first_frame_df.nlargest(3, 'pixel_length')\n",
    "\n",
    "# Using index of three longest whiskers, plot the whiskers on the frame\n",
    "for index, whisker_data in longest_whiskers.iterrows():\n",
    "    color_index = index % len(colors)\n",
    "    color = colors[color_index]\n",
    "    print(f\"Whisker ID: {whisker_data['wid']}, color: {color}\")\n",
    "\n",
    "    print(whisker_data['pixels_x'][0], whisker_data['pixels_y'][0])\n",
    "    for j in range(whisker_data['pixels_x'].shape[0]):\n",
    "        # add the image_coord first two values\n",
    "        x = int(whisker_data['pixels_x'][j]) + image_coord[0]\n",
    "        y = int(whisker_data['pixels_y'][j]) + image_coord[1]\n",
    "        cv2.circle(frame, (x, y), 2, color, -1)"
   ]
  },
  {
   "cell_type": "code",
   "execution_count": null,
   "id": "057466da",
   "metadata": {},
   "outputs": [],
   "source": [
    "# Plot the frame below the cell in the notebook\n",
    "plt.imshow(frame)"
   ]
  },
  {
   "cell_type": "code",
   "execution_count": null,
   "id": "6a80922a",
   "metadata": {},
   "outputs": [],
   "source": []
  }
 ],
 "metadata": {
  "kernelspec": {
   "display_name": "Python 3 (ipykernel)",
   "language": "python",
   "name": "python3"
  },
  "language_info": {
   "codemirror_mode": {
    "name": "ipython",
    "version": 3
   },
   "file_extension": ".py",
   "mimetype": "text/x-python",
   "name": "python",
   "nbconvert_exporter": "python",
   "pygments_lexer": "ipython3",
   "version": "3.10.14"
  }
 },
 "nbformat": 4,
 "nbformat_minor": 5
}
