{
 "cells": [
  {
   "attachments": {},
   "cell_type": "markdown",
   "id": "e89cd0a0",
   "metadata": {},
   "source": [
    "Plot the three longest whiskers from the first frame of the video."
   ]
  },
  {
   "cell_type": "code",
   "execution_count": null,
   "id": "bf121638",
   "metadata": {},
   "outputs": [],
   "source": [
    "import pyarrow.parquet as pq\n",
    "import pandas as pd\n",
    "import matplotlib.pyplot as plt\n",
    "import numpy as np\n",
    "import os\n",
    "import cv2\n",
    "import json"
   ]
  },
  {
   "cell_type": "code",
   "execution_count": null,
   "id": "6cbcb0d7",
   "metadata": {},
   "outputs": [],
   "source": [
    "# Data directory\n",
    "# data_dir = '/home/wanglab/data/whisker_asym/wa001/test'\n",
    "# data_dir = '/home/wanglab/data/whisker_asym/sc012/test_full_length'\n",
    "data_dir = '/home/wanglab/data/whisker_asym/test'\n",
    "# Load the Parquet file\n",
    "# parquet_file = 'WA001_080224_01_left.parquet'\n",
    "# parquet_file = 'sc012_0119_001_left.parquet'\n",
    "parquet_file = 'sc012_0119_001.parquet'\n",
    "table = pq.read_table(f'{data_dir}/{parquet_file}')\n",
    "\n",
    "# Convert the table to a Pandas DataFrame\n",
    "df = table.to_pandas()\n",
    "df"
   ]
  },
  {
   "cell_type": "code",
   "execution_count": null,
   "id": "4bfdab7c",
   "metadata": {},
   "outputs": [],
   "source": [
    "# Filter the DataFrame to include only the first frame (fid = 0)\n",
    "first_frame_df = df[df['fid'] == 0]\n",
    "\n",
    "# Get the sides available for the first frame\n",
    "sides = first_frame_df['face_side'].unique()\n",
    "\n",
    "# For each side, sort by the \"pixel_length\" column and take the top 3 longest whiskers\n",
    "longest_whiskers = []\n",
    "for side in sides:\n",
    "    side_df = first_frame_df[first_frame_df['face_side'] == side]\n",
    "    longest_whiskers.append(side_df.nlargest(3, 'pixel_length'))"
   ]
  },
  {
   "cell_type": "code",
   "execution_count": null,
   "id": "24f6be08",
   "metadata": {},
   "outputs": [],
   "source": [
    "# Read in a frame of the video\n",
    "# video_name = 'WA001_080224_01_TopCam_10s.mp4'\n",
    "# video_name = 'sc012_0119_001_20230119-190517_HSCam.avi'\n",
    "video_name = 'test.mp4'\n",
    "frame_num = 0\n",
    "cap = cv2.VideoCapture(f'{data_dir}/{video_name}')\n",
    "cap.set(cv2.CAP_PROP_POS_FRAMES, frame_num)\n",
    "ret, frame = cap.read()\n",
    "# Display the frame\n",
    "plt.figure(figsize=(8, 6))\n",
    "# plt.imshow(frame)"
   ]
  },
  {
   "cell_type": "code",
   "execution_count": null,
   "id": "25523afb",
   "metadata": {},
   "outputs": [],
   "source": [
    "# Create set of colors for up to 20 whiskers, starting with red, green, blue\n",
    "colors = [(255,0,0), (0,255,0), (0,0,255), (255,255,0), (255,0,255),\n",
    "            (0,255,255), (128,0,0), (0,128,0), (0,0,128), (128,128,0),\n",
    "            (128,0,128), (0,128,128), (64,0,0), (0,64,0), (0,0,64),\n",
    "            (64,64,0), (64,0,64), (0,64,64), (192,0,0), (0,192,0)]"
   ]
  },
  {
   "cell_type": "code",
   "execution_count": null,
   "id": "447419df",
   "metadata": {},
   "outputs": [],
   "source": [
    "# Using index of three longest whiskers, plot the whiskers on the frame\n",
    "for longest_whiskers_side in longest_whiskers:\n",
    "    for index, whisker_data in longest_whiskers_side.iterrows():\n",
    "        color_index = index % len(colors)\n",
    "        color = colors[color_index]\n",
    "        print(f\"Whisker ID: {whisker_data['wid']}, color: {color}\")\n",
    "\n",
    "        print(whisker_data['pixels_x'][0], whisker_data['pixels_y'][0])\n",
    "        for j in range(whisker_data['pixels_x'].shape[0]):\n",
    "            # add the image_coord first two values\n",
    "            x = int(whisker_data['pixels_x'][j])\n",
    "            y = int(whisker_data['pixels_y'][j])\n",
    "            cv2.circle(frame, (x, y), 2, color, -1)"
   ]
  },
  {
   "cell_type": "code",
   "execution_count": null,
   "id": "057466da",
   "metadata": {},
   "outputs": [],
   "source": [
    "# Plot the frame below the cell in the notebook\n",
    "plt.imshow(frame)"
   ]
  },
  {
   "cell_type": "code",
   "execution_count": null,
   "id": "95cfb056",
   "metadata": {},
   "outputs": [],
   "source": [
    "# Select the frame with the highest "
   ]
  }
 ],
 "metadata": {
  "kernelspec": {
   "display_name": "Python 3 (ipykernel)",
   "language": "python",
   "name": "python3"
  },
  "language_info": {
   "codemirror_mode": {
    "name": "ipython",
    "version": 3
   },
   "file_extension": ".py",
   "mimetype": "text/x-python",
   "name": "python",
   "nbconvert_exporter": "python",
   "pygments_lexer": "ipython3",
   "version": "3.10.14"
  }
 },
 "nbformat": 4,
 "nbformat_minor": 5
}
